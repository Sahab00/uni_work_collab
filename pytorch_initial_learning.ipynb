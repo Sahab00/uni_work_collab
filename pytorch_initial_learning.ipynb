{
 "cells": [
  {
   "cell_type": "markdown",
   "id": "6a76fdc3",
   "metadata": {},
   "source": [
    "# Data set of \"Titanic\""
   ]
  },
  {
   "cell_type": "markdown",
   "id": "28cb5358",
   "metadata": {},
   "source": [
    "This code demonstrates how to load the Titanic datase"
   ]
  },
  {
   "cell_type": "code",
   "execution_count": 1,
   "id": "927f54ab",
   "metadata": {},
   "outputs": [],
   "source": [
    "import numpy as np\n",
    "import pandas as pd\n",
    "\n",
    "train_data=pd.read_csv(\"train.csv\")\n",
    "\n"
   ]
  },
  {
   "cell_type": "markdown",
   "id": "079313c8",
   "metadata": {},
   "source": [
    "Display first and last rows: The head(1) and tail(1) functions are used to view the first and last row of the dataset. Doing this to check if the dataset is loaded properly or not"
   ]
  },
  {
   "cell_type": "code",
   "execution_count": 2,
   "id": "c1bc7a91",
   "metadata": {},
   "outputs": [
    {
     "data": {
      "text/html": [
       "<div>\n",
       "<style scoped>\n",
       "    .dataframe tbody tr th:only-of-type {\n",
       "        vertical-align: middle;\n",
       "    }\n",
       "\n",
       "    .dataframe tbody tr th {\n",
       "        vertical-align: top;\n",
       "    }\n",
       "\n",
       "    .dataframe thead th {\n",
       "        text-align: right;\n",
       "    }\n",
       "</style>\n",
       "<table border=\"1\" class=\"dataframe\">\n",
       "  <thead>\n",
       "    <tr style=\"text-align: right;\">\n",
       "      <th></th>\n",
       "      <th>PassengerId</th>\n",
       "      <th>Survived</th>\n",
       "      <th>Pclass</th>\n",
       "      <th>Name</th>\n",
       "      <th>Gender</th>\n",
       "      <th>Age</th>\n",
       "      <th>SibSp</th>\n",
       "      <th>Parch</th>\n",
       "      <th>Ticket</th>\n",
       "      <th>Fare</th>\n",
       "      <th>Cabin</th>\n",
       "      <th>Embarked</th>\n",
       "    </tr>\n",
       "  </thead>\n",
       "  <tbody>\n",
       "    <tr>\n",
       "      <th>0</th>\n",
       "      <td>1</td>\n",
       "      <td>0</td>\n",
       "      <td>3</td>\n",
       "      <td>Braund, Mr. Owen Harris</td>\n",
       "      <td>male</td>\n",
       "      <td>22.0</td>\n",
       "      <td>1</td>\n",
       "      <td>0</td>\n",
       "      <td>A/5 21171</td>\n",
       "      <td>7.25</td>\n",
       "      <td>NaN</td>\n",
       "      <td>S</td>\n",
       "    </tr>\n",
       "  </tbody>\n",
       "</table>\n",
       "</div>"
      ],
      "text/plain": [
       "   PassengerId  Survived  Pclass                     Name Gender   Age  SibSp  \\\n",
       "0            1         0       3  Braund, Mr. Owen Harris   male  22.0      1   \n",
       "\n",
       "   Parch     Ticket  Fare Cabin Embarked  \n",
       "0      0  A/5 21171  7.25   NaN        S  "
      ]
     },
     "execution_count": 2,
     "metadata": {},
     "output_type": "execute_result"
    }
   ],
   "source": [
    "train_data.head(1)  "
   ]
  },
  {
   "cell_type": "code",
   "execution_count": 3,
   "id": "4a6c4447",
   "metadata": {},
   "outputs": [
    {
     "data": {
      "text/html": [
       "<div>\n",
       "<style scoped>\n",
       "    .dataframe tbody tr th:only-of-type {\n",
       "        vertical-align: middle;\n",
       "    }\n",
       "\n",
       "    .dataframe tbody tr th {\n",
       "        vertical-align: top;\n",
       "    }\n",
       "\n",
       "    .dataframe thead th {\n",
       "        text-align: right;\n",
       "    }\n",
       "</style>\n",
       "<table border=\"1\" class=\"dataframe\">\n",
       "  <thead>\n",
       "    <tr style=\"text-align: right;\">\n",
       "      <th></th>\n",
       "      <th>PassengerId</th>\n",
       "      <th>Survived</th>\n",
       "      <th>Pclass</th>\n",
       "      <th>Name</th>\n",
       "      <th>Gender</th>\n",
       "      <th>Age</th>\n",
       "      <th>SibSp</th>\n",
       "      <th>Parch</th>\n",
       "      <th>Ticket</th>\n",
       "      <th>Fare</th>\n",
       "      <th>Cabin</th>\n",
       "      <th>Embarked</th>\n",
       "    </tr>\n",
       "  </thead>\n",
       "  <tbody>\n",
       "    <tr>\n",
       "      <th>890</th>\n",
       "      <td>891</td>\n",
       "      <td>0</td>\n",
       "      <td>3</td>\n",
       "      <td>Dooley, Mr. Patrick</td>\n",
       "      <td>male</td>\n",
       "      <td>32.0</td>\n",
       "      <td>0</td>\n",
       "      <td>0</td>\n",
       "      <td>370376</td>\n",
       "      <td>7.75</td>\n",
       "      <td>NaN</td>\n",
       "      <td>Q</td>\n",
       "    </tr>\n",
       "  </tbody>\n",
       "</table>\n",
       "</div>"
      ],
      "text/plain": [
       "     PassengerId  Survived  Pclass                 Name Gender   Age  SibSp  \\\n",
       "890          891         0       3  Dooley, Mr. Patrick   male  32.0      0   \n",
       "\n",
       "     Parch  Ticket  Fare Cabin Embarked  \n",
       "890      0  370376  7.75   NaN        Q  "
      ]
     },
     "execution_count": 3,
     "metadata": {},
     "output_type": "execute_result"
    }
   ],
   "source": [
    "train_data.tail(1)"
   ]
  },
  {
   "cell_type": "markdown",
   "id": "79d8516a",
   "metadata": {},
   "source": [
    "Filtering only numeric columns: The select_dtypes() function is used to filter out only the numeric columns from the dataset."
   ]
  },
  {
   "cell_type": "code",
   "execution_count": 4,
   "id": "1171d24c",
   "metadata": {},
   "outputs": [],
   "source": [
    "#chosing only numeric colmns\n",
    "data=train_data.select_dtypes(include=[np.number])"
   ]
  },
  {
   "cell_type": "markdown",
   "id": "b8d4b14e",
   "metadata": {},
   "source": [
    "Checking for missing values: To ensure data quality, the code checks for any missing values in the dataset \n",
    "using isnull().sum(), which counts the number of null values in each column."
   ]
  },
  {
   "cell_type": "code",
   "execution_count": 5,
   "id": "584451b0",
   "metadata": {},
   "outputs": [
    {
     "data": {
      "text/plain": [
       "PassengerId      0\n",
       "Survived         0\n",
       "Pclass           0\n",
       "Age            177\n",
       "SibSp            0\n",
       "Parch            0\n",
       "Fare             0\n",
       "dtype: int64"
      ]
     },
     "execution_count": 5,
     "metadata": {},
     "output_type": "execute_result"
    }
   ],
   "source": [
    "data.isnull().sum()"
   ]
  },
  {
   "cell_type": "markdown",
   "id": "97cb10ef",
   "metadata": {},
   "source": [
    "Handling missing values: Missing values in the dataset can be filled using the fillna() function, \n",
    "which replaces null cells with a specified value (e.g., 0)."
   ]
  },
  {
   "cell_type": "code",
   "execution_count": 11,
   "id": "df7feec0",
   "metadata": {},
   "outputs": [],
   "source": [
    "train_data = train_data.fillna(0)"
   ]
  },
  {
   "cell_type": "markdown",
   "id": "5a18ae3d",
   "metadata": {},
   "source": [
    "# Seperating data into x and y"
   ]
  },
  {
   "cell_type": "markdown",
   "id": "344ca319",
   "metadata": {},
   "source": [
    "Preparing data for model input (features and labels): The Survived column is separated as the label (y_data), \n",
    "and the remaining numeric features become the input (x_data)."
   ]
  },
  {
   "cell_type": "code",
   "execution_count": 12,
   "id": "a50f2a50",
   "metadata": {},
   "outputs": [],
   "source": [
    "x_data=data.drop(\"Survived\",axis=1).values\n",
    "y_data=data[\"Survived\"].values\n"
   ]
  },
  {
   "cell_type": "markdown",
   "id": "278cc9aa",
   "metadata": {},
   "source": [
    "# pytorch and tensor"
   ]
  },
  {
   "cell_type": "markdown",
   "id": "49649ff0",
   "metadata": {},
   "source": [
    "Converting data to PyTorch tensors: Both x_data (features) and y_data (labels) are converted into PyTorch tensors, which can then be used as input to a neural network."
   ]
  },
  {
   "cell_type": "markdown",
   "id": "47108878",
   "metadata": {},
   "source": [
    "What is PyTorch?\n",
    "PyTorch is a popular open-source machine learning library that provides tensor computation with strong GPU acceleration, making it especially useful for deep learning tasks. PyTorch is known for its dynamic computation graphs, which makes it easier to debug and build neural networks in a flexible way."
   ]
  },
  {
   "cell_type": "markdown",
   "id": "3ebc9749",
   "metadata": {},
   "source": [
    "What are Tensors?\n",
    "Tensors are multi-dimensional arrays that are a generalization of matrices. In deep learning, tensors are used to store data for computations, such as inputs to a neural network. They can have any number of dimensions, which makes them ideal for representing data like images, text, or other complex datasets."
   ]
  },
  {
   "cell_type": "markdown",
   "id": "aba22be1",
   "metadata": {},
   "source": [
    "Why Convert Data to Tensors?\n",
    "Neural networks in PyTorch require data to be in the form of tensors because tensors allow for efficient computation on both CPUs and GPUs. Converting features and labels to tensors enables PyTorch to perform matrix operations, which are essential for the forward and backward passes in training a model. This step is crucial for optimizing the model using gradient-based methods like backpropagation."
   ]
  },
  {
   "cell_type": "code",
   "execution_count": 13,
   "id": "03b2691f",
   "metadata": {},
   "outputs": [],
   "source": [
    "import torch as t\n",
    "x_tensor = t.tensor(x_data, dtype=t.float32)\n",
    "y_tensor = t.tensor(y_data, dtype=t.float32)\n"
   ]
  },
  {
   "cell_type": "markdown",
   "id": "f655dce3",
   "metadata": {},
   "source": [
    "Printing tensors: Finally, the code prints out the tensor values for x_tensor and y_tensor to verify the conversion."
   ]
  },
  {
   "cell_type": "code",
   "execution_count": 14,
   "id": "2054edc0",
   "metadata": {},
   "outputs": [
    {
     "name": "stdout",
     "output_type": "stream",
     "text": [
      "tensor([[  1.0000,   3.0000,  22.0000,   1.0000,   0.0000,   7.2500],\n",
      "        [  2.0000,   1.0000,  38.0000,   1.0000,   0.0000,  71.2833],\n",
      "        [  3.0000,   3.0000,  26.0000,   0.0000,   0.0000,   7.9250],\n",
      "        ...,\n",
      "        [889.0000,   3.0000,      nan,   1.0000,   2.0000,  23.4500],\n",
      "        [890.0000,   1.0000,  26.0000,   0.0000,   0.0000,  30.0000],\n",
      "        [891.0000,   3.0000,  32.0000,   0.0000,   0.0000,   7.7500]])\n"
     ]
    }
   ],
   "source": [
    "print(x_tensor)"
   ]
  },
  {
   "cell_type": "code",
   "execution_count": 16,
   "id": "85bad4af",
   "metadata": {},
   "outputs": [
    {
     "name": "stdout",
     "output_type": "stream",
     "text": [
      "tensor([0., 1., 1., 1., 0., 0., 0., 0., 1., 1., 1., 1., 0., 0., 0., 1., 0., 1.,\n",
      "        0., 1., 0., 1., 1., 1., 0., 1., 0., 0., 1., 0., 0., 1., 1., 0., 0., 0.,\n",
      "        1., 0., 0., 1., 0., 0., 0., 1., 1., 0., 0., 1., 0., 0., 0., 0., 1., 1.,\n",
      "        0., 1., 1., 0., 1., 0., 0., 1., 0., 0., 0., 1., 1., 0., 1., 0., 0., 0.,\n",
      "        0., 0., 1., 0., 0., 0., 1., 1., 0., 1., 1., 0., 1., 1., 0., 0., 1., 0.,\n",
      "        0., 0., 0., 0., 0., 0., 0., 1., 1., 0., 0., 0., 0., 0., 0., 0., 1., 1.,\n",
      "        0., 1., 0., 0., 0., 0., 0., 0., 0., 0., 0., 0., 0., 0., 0., 1., 0., 1.,\n",
      "        0., 1., 1., 0., 0., 0., 0., 1., 0., 0., 1., 0., 0., 0., 0., 1., 1., 0.,\n",
      "        0., 0., 1., 0., 0., 0., 0., 1., 0., 0., 0., 0., 1., 0., 0., 0., 0., 1.,\n",
      "        0., 0., 0., 1., 1., 0., 0., 0., 0., 0., 1., 0., 0., 0., 0., 0., 0., 0.,\n",
      "        0., 0., 0., 1., 1., 0., 1., 1., 0., 0., 1., 0., 1., 1., 1., 1., 0., 0.,\n",
      "        1., 0., 0., 0., 0., 0., 1., 0., 0., 1., 1., 1., 0., 1., 0., 0., 0., 1.,\n",
      "        1., 0., 1., 0., 1., 0., 0., 0., 1., 0., 1., 0., 0., 0., 1., 0., 0., 1.,\n",
      "        0., 0., 0., 1., 0., 0., 0., 1., 0., 0., 0., 0., 0., 1., 1., 0., 0., 0.,\n",
      "        0., 0., 0., 1., 1., 1., 1., 1., 0., 1., 0., 0., 0., 0., 0., 1., 1., 1.,\n",
      "        0., 1., 1., 0., 1., 1., 0., 0., 0., 1., 0., 0., 0., 1., 0., 0., 1., 0.,\n",
      "        1., 1., 1., 1., 0., 0., 0., 0., 0., 0., 1., 1., 1., 1., 0., 1., 0., 1.,\n",
      "        1., 1., 0., 1., 1., 1., 0., 0., 0., 1., 1., 0., 1., 1., 0., 0., 1., 1.,\n",
      "        0., 1., 0., 1., 1., 1., 1., 0., 0., 0., 1., 0., 0., 1., 1., 0., 1., 1.,\n",
      "        0., 0., 0., 1., 1., 1., 1., 0., 0., 0., 0., 0., 0., 0., 1., 0., 1., 1.,\n",
      "        0., 0., 0., 0., 0., 0., 1., 1., 1., 1., 1., 0., 0., 0., 0., 1., 1., 0.,\n",
      "        0., 0., 1., 1., 0., 1., 0., 0., 0., 1., 0., 1., 1., 1., 0., 1., 1., 0.,\n",
      "        0., 0., 0., 1., 1., 0., 0., 0., 0., 0., 0., 1., 0., 0., 0., 0., 1., 0.,\n",
      "        1., 0., 1., 1., 0., 0., 0., 0., 0., 0., 0., 0., 1., 1., 0., 1., 1., 1.,\n",
      "        1., 0., 0., 1., 0., 1., 0., 0., 1., 0., 0., 1., 1., 1., 1., 1., 1., 1.,\n",
      "        0., 0., 0., 1., 0., 1., 0., 1., 1., 0., 1., 0., 0., 0., 0., 0., 0., 0.,\n",
      "        0., 1., 0., 0., 1., 1., 0., 0., 0., 0., 0., 1., 0., 0., 0., 1., 1., 0.,\n",
      "        1., 0., 0., 1., 0., 0., 0., 0., 0., 0., 1., 0., 0., 0., 0., 0., 0., 0.,\n",
      "        1., 0., 1., 1., 0., 1., 1., 0., 1., 1., 0., 0., 1., 0., 1., 0., 1., 0.,\n",
      "        0., 1., 0., 0., 1., 0., 0., 0., 1., 0., 0., 1., 0., 1., 0., 1., 0., 1.,\n",
      "        1., 0., 0., 1., 0., 0., 1., 1., 0., 1., 1., 0., 0., 1., 1., 0., 1., 0.,\n",
      "        1., 1., 0., 0., 0., 0., 0., 0., 0., 0., 0., 1., 1., 1., 1., 1., 0., 0.,\n",
      "        1., 1., 0., 1., 1., 1., 0., 0., 0., 1., 0., 1., 0., 0., 0., 1., 0., 0.,\n",
      "        0., 0., 1., 0., 0., 1., 1., 0., 0., 0., 1., 0., 0., 1., 1., 1., 0., 0.,\n",
      "        1., 0., 0., 1., 0., 0., 1., 0., 0., 1., 1., 0., 0., 0., 0., 1., 0., 0.,\n",
      "        1., 0., 1., 0., 0., 1., 0., 0., 0., 0., 0., 1., 0., 1., 1., 1., 0., 1.,\n",
      "        0., 1., 0., 1., 0., 1., 0., 0., 0., 0., 0., 0., 1., 0., 0., 0., 1., 0.,\n",
      "        0., 0., 0., 1., 1., 0., 0., 1., 0., 0., 0., 1., 0., 1., 0., 1., 0., 0.,\n",
      "        0., 0., 0., 0., 0., 1., 1., 1., 1., 0., 0., 0., 0., 1., 0., 0., 1., 1.,\n",
      "        0., 0., 0., 0., 1., 1., 1., 1., 1., 0., 1., 0., 0., 0., 1., 1., 0., 0.,\n",
      "        1., 0., 0., 0., 1., 0., 1., 1., 0., 0., 1., 0., 0., 0., 0., 0., 0., 1.,\n",
      "        0., 0., 1., 0., 1., 0., 1., 0., 0., 1., 0., 0., 1., 1., 0., 0., 1., 1.,\n",
      "        0., 0., 0., 1., 0., 0., 1., 1., 0., 1., 0., 0., 0., 0., 0., 0., 0., 0.,\n",
      "        1., 0., 0., 1., 0., 1., 1., 1., 0., 0., 0., 0., 1., 0., 1., 0., 0., 0.,\n",
      "        0., 0., 0., 0., 1., 1., 0., 0., 0., 1., 1., 1., 1., 0., 0., 0., 0., 1.,\n",
      "        0., 0., 0., 0., 0., 0., 0., 0., 0., 0., 1., 1., 0., 1., 0., 0., 0., 1.,\n",
      "        1., 1., 1., 1., 0., 0., 0., 1., 0., 0., 1., 1., 0., 0., 1., 0., 0., 0.,\n",
      "        0., 0., 0., 1., 0., 0., 0., 1., 0., 1., 1., 1., 1., 0., 0., 0., 1., 0.,\n",
      "        0., 1., 1., 0., 0., 1., 0., 1., 0., 0., 1., 1., 0., 0., 0., 1., 1., 0.,\n",
      "        0., 0., 0., 0., 0., 1., 0., 1., 0.])\n"
     ]
    }
   ],
   "source": [
    "print(y_tensor)"
   ]
  },
  {
   "cell_type": "code",
   "execution_count": null,
   "id": "b26c0ea7",
   "metadata": {},
   "outputs": [],
   "source": []
  }
 ],
 "metadata": {
  "kernelspec": {
   "display_name": "Python 3 (ipykernel)",
   "language": "python",
   "name": "python3"
  },
  "language_info": {
   "codemirror_mode": {
    "name": "ipython",
    "version": 3
   },
   "file_extension": ".py",
   "mimetype": "text/x-python",
   "name": "python",
   "nbconvert_exporter": "python",
   "pygments_lexer": "ipython3",
   "version": "3.11.5"
  }
 },
 "nbformat": 4,
 "nbformat_minor": 5
}
