{
  "cells": [
    {
      "cell_type": "markdown",
      "metadata": {
        "id": "view-in-github",
        "colab_type": "text"
      },
      "source": [
        "<a href=\"https://colab.research.google.com/github/Sahab00/uni_work_collab/blob/main/TrainingFirstNNClasses.ipynb\" target=\"_parent\"><img src=\"https://colab.research.google.com/assets/colab-badge.svg\" alt=\"Open In Colab\"/></a>"
      ]
    },
    {
      "cell_type": "markdown",
      "metadata": {
        "id": "5U9VR3fwvbUJ"
      },
      "source": [
        "## Main Topics\n",
        "    1: \"data (prepare and load)\",\n",
        "\n",
        "    2: \"build model\",\n",
        "\n",
        "    3: \"fitting the model to data (training)\",\n",
        "\n",
        "    4: \"making predictions and evaluating a model (inference)\",\n",
        "\n",
        "    5: \"saving and loading a model\",\n",
        "    \n",
        "    6: \"putting it all together\"\n"
      ]
    },
    {
      "cell_type": "code",
      "execution_count": null,
      "metadata": {
        "id": "A4NcRs_evbUN",
        "outputId": "86f76859-3089-4167-d992-2ed2de035099"
      },
      "outputs": [
        {
          "data": {
            "text/plain": [
              "'2.4.1+cpu'"
            ]
          },
          "execution_count": 166,
          "metadata": {},
          "output_type": "execute_result"
        }
      ],
      "source": [
        "import torch\n",
        "from torch import nn # nn contains all of PyTorch's building blocks for neural networks\n",
        "import matplotlib.pyplot as plt\n",
        "\n",
        "# Check PyTorch version\n",
        "torch.__version__"
      ]
    },
    {
      "cell_type": "markdown",
      "metadata": {
        "id": "TdRSuq5PvbUO"
      },
      "source": [
        "Machine learning is a game of two parts:\n",
        "\n",
        "1). Turn your data, whatever it is, into numbers (a representation).\n",
        "2). Pick or build a model to learn the representation as best as possible.\n",
        "\n",
        " In this example linear regression is used to create the data with known parameters (things that can be learned by a model) and then PyTorch is utilized to see if we can build model to estimate these parameters using *gradient descent*."
      ]
    },
    {
      "cell_type": "code",
      "execution_count": null,
      "metadata": {
        "id": "c7vhSSROvbUP",
        "outputId": "718fa595-78bb-4804-b671-eb863f788898"
      },
      "outputs": [
        {
          "data": {
            "text/plain": [
              "(tensor([[0.0000],\n",
              "         [0.0200],\n",
              "         [0.0400],\n",
              "         [0.0600],\n",
              "         [0.0800],\n",
              "         [0.1000],\n",
              "         [0.1200],\n",
              "         [0.1400],\n",
              "         [0.1600],\n",
              "         [0.1800]]),\n",
              " tensor([[0.3000],\n",
              "         [0.3140],\n",
              "         [0.3280],\n",
              "         [0.3420],\n",
              "         [0.3560],\n",
              "         [0.3700],\n",
              "         [0.3840],\n",
              "         [0.3980],\n",
              "         [0.4120],\n",
              "         [0.4260]]))"
            ]
          },
          "execution_count": 167,
          "metadata": {},
          "output_type": "execute_result"
        }
      ],
      "source": [
        "# Create *known* parameters\n",
        "weight = 0.7\n",
        "bias = 0.3\n",
        "\n",
        "# Create data\n",
        "start = 0\n",
        "end = 1\n",
        "step = 0.02\n",
        "X = torch.arange(start, end, step).unsqueeze(dim=1)\n",
        "y = weight * X + bias\n",
        "# Guess shape of X and y\n",
        "#print(f\"shape of y is {y.shape}\")\n",
        "\n",
        "X[:10], y[:10]"
      ]
    },
    {
      "cell_type": "markdown",
      "metadata": {
        "id": "SRmSlIsHvbUP"
      },
      "source": [
        "# Split data into training and test sets\n",
        "![image.png](attachment:image.png)"
      ]
    },
    {
      "cell_type": "code",
      "execution_count": null,
      "metadata": {
        "id": "9Ac_K36hvbUQ",
        "outputId": "dbc55d6c-3098-4b7b-a146-5ac670cbe5a7"
      },
      "outputs": [
        {
          "data": {
            "text/plain": [
              "(40, 40, 10, 10)"
            ]
          },
          "execution_count": 168,
          "metadata": {},
          "output_type": "execute_result"
        }
      ],
      "source": [
        "# Create train/test split\n",
        "train_split = int(0.8 * len(X)) # 80% of data used for training set, 20% for testing\n",
        "X_train, y_train = X[:train_split], y[:train_split]\n",
        "X_test, y_test = X[train_split:], y[train_split:]\n",
        "\n",
        "len(X_train), len(y_train), len(X_test), len(y_test)"
      ]
    },
    {
      "cell_type": "code",
      "execution_count": null,
      "metadata": {
        "id": "KUCvcOXzvbUQ"
      },
      "outputs": [],
      "source": [
        "def plot_predictions(train_data=X_train,\n",
        "                     train_labels=y_train,\n",
        "                     test_data=X_test,\n",
        "                     test_labels=y_test,\n",
        "                     predictions=None):\n",
        "  \"\"\"\n",
        "  Plots training data, test data and compares predictions.\n",
        "  \"\"\"\n",
        "  plt.figure(figsize=(10, 7))\n",
        "\n",
        "  # Plot training data in blue\n",
        "  plt.scatter(train_data, train_labels, c=\"b\", s=20, marker='v', label=\"Training data\") # s is size of marker\n",
        "\n",
        "  # Plot test data in green\n",
        "  plt.scatter(test_data, test_labels, c=\"g\", s=20, label=\"Testing data\")\n",
        "\n",
        "  if predictions is not None:\n",
        "    # Plot the predictions in red (predictions were made on the test data)\n",
        "    plt.scatter(test_data, predictions, c=\"r\", s=20, label=\"Predictions\")\n",
        "\n",
        "  # Show the legend\n",
        "  plt.legend(prop={\"size\": 14});"
      ]
    },
    {
      "cell_type": "code",
      "execution_count": null,
      "metadata": {
        "id": "mNSkiLZYvbUQ",
        "outputId": "3bad9c6e-6af9-42ea-9c91-a8e82e049502"
      },
      "outputs": [
        {
          "data": {
            "image/png": "[encoded data removed]",
            "text/plain": [
              "<Figure size 1000x700 with 1 Axes>"
            ]
          },
          "metadata": {},
          "output_type": "display_data"
        }
      ],
      "source": [
        "plot_predictions();\n"
      ]
    },
    {
      "cell_type": "markdown",
      "metadata": {
        "id": "xiGVyndkvbUR"
      },
      "source": [
        "# 2. Build model"
      ]
    },
    {
      "cell_type": "code",
      "execution_count": null,
      "metadata": {
        "id": "9mc7hycmvbUR"
      },
      "outputs": [],
      "source": [
        "# Create a Linear Regression model class\n",
        "class LinearRegressionModel(nn.Module): # <- almost everything in PyTorch is a nn.Module (think of this as neural network lego blocks)\n",
        "    def __init__(self):\n",
        "        super().__init__()\n",
        "        self.weights = nn.Parameter(torch.randn(1, # <- start with random weights (this will get adjusted as the model learns)\n",
        "                                                dtype=torch.float), # <- PyTorch loves float32 by default\n",
        "                                   requires_grad=True) # <- can we update this value with gradient descent?)\n",
        "\n",
        "        self.bias = nn.Parameter(torch.randn(1, # <- start with random bias (this will get adjusted as the model learns)\n",
        "                                            dtype=torch.float), # <- PyTorch loves float32 by default\n",
        "                                requires_grad=True) # <- can we update this value with gradient descent?))\n",
        "\n",
        "    # Forward defines the computation in the model\n",
        "    def forward(self, x: torch.Tensor) -> torch.Tensor: # <- \"x\" is the input data (e.g. training/testing features)\n",
        "        return self.weights * x + self.bias # <- this is the linear regression formula (y = m*x + b)"
      ]
    },
    {
      "cell_type": "markdown",
      "metadata": {
        "id": "egPgccqRvbUS"
      },
      "source": [
        "# PyTorch module\tWhat does it do?\n",
        "**torch.nn**\tContains all of the building blocks for computational graphs (essentially a series of computations executed in a particular way).\n",
        "\n",
        "**torch.nn.Parameter**\tStores tensors that can be used with nn.Module. If requires_grad=True gradients (used for updating model parameters via gradient descent) are calculated automatically, this is often referred to as \"autograd\".\n",
        "\n",
        "**torch.nn.Module**\tThe base class for all neural network modules, all the building blocks for neural networks are subclasses. If you're building a neural network in PyTorch, your models should subclass nn.Module. Requires a forward() method be implemented.\n",
        "\n",
        "**torch.optim**\tContains various optimization algorithms (these tell the model parameters stored in nn.Parameter how to best change to improve gradient descent and in turn reduce the loss).\n",
        "\n",
        "**def forward()**\tAll nn.Module subclasses require a forward() method, this defines the computation that will take place on the data passed to the particular nn.Module (e.g. the linear regression formula above)."
      ]
    },
    {
      "cell_type": "markdown",
      "metadata": {
        "id": "kkEePR1ovbUS"
      },
      "source": [
        "![image.png](attachment:image.png)\n"
      ]
    },
    {
      "cell_type": "code",
      "execution_count": null,
      "metadata": {
        "id": "ZOZi7UaPvbUS"
      },
      "outputs": [],
      "source": []
    },
    {
      "cell_type": "code",
      "execution_count": null,
      "metadata": {
        "id": "YuUoDErrvbUS",
        "outputId": "1716efd7-ed8a-49e4-a308-27e512d30b13"
      },
      "outputs": [
        {
          "data": {
            "text/plain": [
              "[Parameter containing:\n",
              " tensor([0.3367], requires_grad=True),\n",
              " Parameter containing:\n",
              " tensor([0.1288], requires_grad=True)]"
            ]
          },
          "execution_count": 172,
          "metadata": {},
          "output_type": "execute_result"
        }
      ],
      "source": [
        "# Set manual seed since nn.Parameter are randomly initialized\n",
        "torch.manual_seed(42)\n",
        "\n",
        "# Create an instance of the model (this is a subclass of nn.Module that contains nn.Parameter(s))\n",
        "model_0 = LinearRegressionModel()\n",
        "\n",
        "# Check the nn.Parameter(s) within the nn.Module subclass we created\n",
        "list(model_0.parameters())"
      ]
    },
    {
      "cell_type": "code",
      "execution_count": null,
      "metadata": {
        "id": "P8de2yvivbUT",
        "outputId": "f6055ceb-a8ca-4499-b1c5-4090d2aed1fa"
      },
      "outputs": [
        {
          "data": {
            "text/plain": [
              "OrderedDict([('weights', tensor([0.3367])), ('bias', tensor([0.1288]))])"
            ]
          },
          "execution_count": 173,
          "metadata": {},
          "output_type": "execute_result"
        }
      ],
      "source": [
        "# List named parameters\n",
        "model_0.state_dict()"
      ]
    },
    {
      "cell_type": "markdown",
      "metadata": {
        "id": "0VZ4MXsxvbUT"
      },
      "source": [
        "## Making predictions using torch.inference_mode()"
      ]
    },
    {
      "cell_type": "code",
      "execution_count": null,
      "metadata": {
        "id": "TwXwcbYRvbUT"
      },
      "outputs": [],
      "source": [
        "# Make predictions with model\n",
        "with torch.inference_mode():\n",
        "    y_preds = model_0(X_test)\n"
      ]
    },
    {
      "cell_type": "code",
      "execution_count": null,
      "metadata": {
        "id": "eQVvxnTGvbUT",
        "outputId": "a3584cc9-a44e-4b0e-b898-d382e3cc47eb"
      },
      "outputs": [
        {
          "name": "stdout",
          "output_type": "stream",
          "text": [
            "Number of testing samples: 10\n",
            "Number of predictions made: 10\n",
            "Predicted values:\n",
            "tensor([[0.3982],\n",
            "        [0.4049],\n",
            "        [0.4116],\n",
            "        [0.4184],\n",
            "        [0.4251],\n",
            "        [0.4318],\n",
            "        [0.4386],\n",
            "        [0.4453],\n",
            "        [0.4520],\n",
            "        [0.4588]])\n"
          ]
        }
      ],
      "source": [
        "# Check the predictions\n",
        "print(f\"Number of testing samples: {len(X_test)}\")\n",
        "print(f\"Number of predictions made: {len(y_preds)}\")\n",
        "print(f\"Predicted values:\\n{y_preds}\")"
      ]
    },
    {
      "cell_type": "code",
      "execution_count": null,
      "metadata": {
        "id": "e88BYoiUvbUT",
        "outputId": "f76e4bb4-da1c-499f-e872-e87994988bc5"
      },
      "outputs": [
        {
          "data": {
            "text/plain": [
              "tensor([[0.4618],\n",
              "        [0.4691],\n",
              "        [0.4764],\n",
              "        [0.4836],\n",
              "        [0.4909],\n",
              "        [0.4982],\n",
              "        [0.5054],\n",
              "        [0.5127],\n",
              "        [0.5200],\n",
              "        [0.5272]])"
            ]
          },
          "execution_count": 176,
          "metadata": {},
          "output_type": "execute_result"
        },
        {
          "data": {
            "image/png": "[encoded data removed]",
            "text/plain": [
              "<Figure size 1000x700 with 1 Axes>"
            ]
          },
          "metadata": {},
          "output_type": "display_data"
        }
      ],
      "source": [
        "plot_predictions(predictions=y_preds)\n",
        "y_test - y_preds\n"
      ]
    },
    {
      "cell_type": "markdown",
      "metadata": {
        "id": "xRF7cOrRvbUU"
      },
      "source": [
        "# 3. Train model\n",
        "Creating a loss function and optimizer in PyTorch\n",
        "\n",
        "For the model to update its parameters on its own, it needs to add a loss function and an optimizer\n",
        "\n",
        "**Function**     **what it does**\n",
        "\n",
        "Loss function\tMeasures how wrong your model's predictions (e.g. y_preds) are compared to the truth labels (e.g. y_test). Lower the better.\n",
        "                **Location in Pytorch** PyTorch has plenty of built-in loss functions in torch.nn.\tMean absolute error (MAE) for regression problems (torch.nn.L1Loss()).\n",
        "                **Common Values** Binary cross entropy for binary classification problems (torch.nn.BCELoss()).\n",
        "                \n",
        "                                                                                                        **Location in Pytorch**                                                  **Common Values**\n",
        "\n",
        "Optimizer\t  Tells your model how to update its internal parameters to best lower the loss.\tYou can find various optimization function implementations in torch.optim.\tStochastic gradient descent (torch.optim.SGD()). Adam optimizer (torch.optim.Adam()).\n",
        "Let's create a loss function a"
      ]
    },
    {
      "cell_type": "markdown",
      "metadata": {
        "id": "1X_tYjrhvbUU"
      },
      "source": [
        "![image.png](attachment:image.png)"
      ]
    },
    {
      "cell_type": "markdown",
      "metadata": {
        "id": "vOjavUgbvbUU"
      },
      "source": [
        "Type of Loss function utlized in model  depends on Type of problem\n",
        "Optimizer"
      ]
    },
    {
      "cell_type": "code",
      "execution_count": null,
      "metadata": {
        "id": "18OFLCJ5vbUU"
      },
      "outputs": [],
      "source": [
        "# Create the loss function\n",
        "loss_fn = nn.L1Loss() # MAE loss is same as L1Loss\n",
        "\n",
        "# Create the optimizer\n",
        "optimizer = torch.optim.SGD(params=model_0.parameters(), # parameters of target model to optimize\n",
        "                            lr=0.01) # learning rate (how much the optimizer should change parameters at each step, higher=more (less stable), lower=less (might take a long time)) Learning rate is hypreparameter"
      ]
    },
    {
      "cell_type": "markdown",
      "metadata": {
        "id": "rzCnlJlrvbUV"
      },
      "source": [
        "**Training Loop**\n",
        "learning the relationships between the features and labels\n",
        "\n",
        "**testing Loop**\n",
        "The testing loop involves going through the testing data and evaluating how good the patterns are that the model learned on the training data (the model never sees the testing data during training).\n",
        "\n",
        "**Steps to remember**\n",
        "\n",
        "Its training time\n",
        "\n",
        "Do the forward pass\n",
        "\n",
        "Calculate the Loss\n",
        "\n",
        "Optimizer zerograd\n",
        "\n",
        "Loss Backwards\n",
        "\n",
        "\n",
        "Optimizer step\n",
        "\n",
        "**Lets test Now**\n",
        "\n",
        "With torch no grad\n",
        "\n",
        "Do the forward pass\n",
        "\n",
        "Calculate the loss\n",
        "\n",
        "Watch it go down.....\n"
      ]
    },
    {
      "cell_type": "markdown",
      "metadata": {
        "id": "r1w8yUECvbUV"
      },
      "source": [
        "![image.png](attachment:image.png)  ,  ![image-2.png](attachment:image-2.png)"
      ]
    },
    {
      "cell_type": "code",
      "execution_count": null,
      "metadata": {
        "id": "6r4Ia09EvbUV",
        "outputId": "3e8120b1-a7df-463b-ad4b-9e5636a50405"
      },
      "outputs": [
        {
          "name": "stdout",
          "output_type": "stream",
          "text": [
            "Epoch: 0 | MAE Train Loss: 0.31288138031959534 | MAE Test Loss: 0.48106518387794495 \n",
            "Epoch: 10 | MAE Train Loss: 0.1976713240146637 | MAE Test Loss: 0.3463551998138428 \n",
            "Epoch: 20 | MAE Train Loss: 0.08908725529909134 | MAE Test Loss: 0.21729660034179688 \n",
            "Epoch: 30 | MAE Train Loss: 0.053148526698350906 | MAE Test Loss: 0.14464017748832703 \n",
            "Epoch: 40 | MAE Train Loss: 0.04543796554207802 | MAE Test Loss: 0.11360953003168106 \n",
            "Epoch: 50 | MAE Train Loss: 0.04167863354086876 | MAE Test Loss: 0.09919948130846024 \n",
            "Epoch: 60 | MAE Train Loss: 0.03818932920694351 | MAE Test Loss: 0.08886633068323135 \n",
            "Epoch: 70 | MAE Train Loss: 0.03476089984178543 | MAE Test Loss: 0.0805937647819519 \n",
            "Epoch: 80 | MAE Train Loss: 0.03132382780313492 | MAE Test Loss: 0.07232122868299484 \n",
            "Epoch: 90 | MAE Train Loss: 0.02788739837706089 | MAE Test Loss: 0.06473556160926819 \n"
          ]
        }
      ],
      "source": [
        "torch.manual_seed(42)\n",
        "\n",
        "# Set the number of epochs (how many times the model will pass over the training data)\n",
        "epochs = 100\n",
        "\n",
        "# Create empty loss lists to track values\n",
        "train_loss_values = []\n",
        "test_loss_values = []\n",
        "epoch_count = []\n",
        "\n",
        "for epoch in range(epochs):\n",
        "    ### Training\n",
        "\n",
        "    # Put model in training mode (this is the default state of a model)\n",
        "    model_0.train()\n",
        "\n",
        "    # 1. Forward pass on train data using the forward() method inside\n",
        "    y_pred = model_0(X_train)\n",
        "    # print(y_pred)\n",
        "\n",
        "    # 2. Calculate the loss (how different are our models predictions to the ground truth)\n",
        "    loss = loss_fn(y_pred, y_train)\n",
        "\n",
        "    # 3. Zero grad of the optimizer\n",
        "    optimizer.zero_grad()\n",
        "\n",
        "    # 4. Loss backwards\n",
        "    loss.backward()\n",
        "\n",
        "    # 5. Progress the optimizer\n",
        "    optimizer.step()\n",
        "\n",
        "    ### Testing\n",
        "\n",
        "    # Put the model in evaluation mode\n",
        "    model_0.eval()\n",
        "\n",
        "    with torch.inference_mode():\n",
        "      # 1. Forward pass on test data\n",
        "      test_pred = model_0(X_test)\n",
        "\n",
        "      # 2. Caculate loss on test data\n",
        "      test_loss = loss_fn(test_pred, y_test.type(torch.float)) # predictions come in torch.float datatype, so comparisons need to be done with tensors of the same type\n",
        "\n",
        "      # Print out what's happening\n",
        "      if epoch % 10 == 0:\n",
        "            epoch_count.append(epoch)\n",
        "            train_loss_values.append(loss.detach().numpy())\n",
        "            test_loss_values.append(test_loss.detach().numpy())\n",
        "            print(f\"Epoch: {epoch} | MAE Train Loss: {loss} | MAE Test Loss: {test_loss} \")"
      ]
    },
    {
      "cell_type": "code",
      "execution_count": null,
      "metadata": {
        "id": "nj9XvWlSvbUW",
        "outputId": "01b1b6a8-3764-49d7-8483-8289faac6e29"
      },
      "outputs": [
        {
          "data": {
            "image/png": "[encoded data removed]",
            "text/plain": [
              "<Figure size 640x480 with 1 Axes>"
            ]
          },
          "metadata": {},
          "output_type": "display_data"
        }
      ],
      "source": [
        "# Plot the loss curves\n",
        "plt.plot(epoch_count, train_loss_values, label=\"Train loss\")\n",
        "plt.plot(epoch_count, test_loss_values, label=\"Test loss\")\n",
        "plt.title(\"Training and test loss curves\")\n",
        "plt.ylabel(\"Loss\")\n",
        "plt.xlabel(\"Epochs\")\n",
        "plt.legend();"
      ]
    },
    {
      "cell_type": "markdown",
      "metadata": {
        "id": "YL0gP_PDvbUW"
      },
      "source": [
        "inspect model's .state_dict() to see how close the model gets to the original values we set for weights and bias."
      ]
    },
    {
      "cell_type": "code",
      "execution_count": null,
      "metadata": {
        "id": "PBcXVJfpvbUW",
        "outputId": "c83b0340-5d11-41ca-d688-86efd0633e53"
      },
      "outputs": [
        {
          "name": "stdout",
          "output_type": "stream",
          "text": [
            "The model learned the following values for weights and bias:\n",
            "OrderedDict([('weights', tensor([0.5784])), ('bias', tensor([0.3513]))])\n",
            "\n",
            "And the original values for weights and bias are:\n",
            "weights: 0.7, bias: 0.3\n"
          ]
        }
      ],
      "source": [
        "# Find our model's learned parameters\n",
        "print(\"The model learned the following values for weights and bias:\")\n",
        "print(model_0.state_dict())\n",
        "print(\"\\nAnd the original values for weights and bias are:\")\n",
        "print(f\"weights: {weight}, bias: {bias}\")"
      ]
    },
    {
      "cell_type": "markdown",
      "metadata": {
        "id": "Spls-62rvbUX"
      },
      "source": [
        "**Exercise:** Try changing the epochs value above to 200, what happens to the loss curves and the weights and bias parameter values of the model?\n",
        "\n",
        "The whole idea of machine learning and deep learning is that there are some ideal values that describe our data and rather than figuring them out by hand, we can train a model to figure them out programmatically."
      ]
    },
    {
      "cell_type": "markdown",
      "metadata": {
        "id": "OB0gCPaIvbUX"
      },
      "source": [
        "# 4. Making predictions with a trained PyTorch model (inference)\n",
        "\n",
        "Three things to remember when making predictions (also called performing inference) with a PyTorch model\n",
        "\n",
        "1) Set the model in evaluation mode (model.eval()).\n",
        "\n",
        "2) Make the predictions using the inference mode context manager (with torch.inference_mode(): ...).\n",
        "\n",
        "3)  All predictions should be made with objects on the same device (e.g. data and model on GPU only or data and model on CPU only)\n"
      ]
    },
    {
      "cell_type": "code",
      "execution_count": null,
      "metadata": {
        "id": "h03a9PCBvbUX",
        "outputId": "60f79578-bd86-49e5-d447-4495e3890e4a"
      },
      "outputs": [
        {
          "data": {
            "text/plain": [
              "tensor([[0.8141],\n",
              "        [0.8256],\n",
              "        [0.8372],\n",
              "        [0.8488],\n",
              "        [0.8603],\n",
              "        [0.8719],\n",
              "        [0.8835],\n",
              "        [0.8950],\n",
              "        [0.9066],\n",
              "        [0.9182]])"
            ]
          },
          "execution_count": 181,
          "metadata": {},
          "output_type": "execute_result"
        }
      ],
      "source": [
        "# 1. Set the model in evaluation mode\n",
        "model_0.eval()\n",
        "\n",
        "# 2. Setup the inference mode context manager\n",
        "with torch.inference_mode():\n",
        "  # 3. Make sure the calculations are done with the model and data on the same device\n",
        "  # in our case, we haven't setup device-agnostic code yet so our data and model are\n",
        "  # on the CPU by default.\n",
        "  # model_0.to(device)\n",
        "  # X_test = X_test.to(device)\n",
        "  y_preds = model_0(X_test)\n",
        "y_preds"
      ]
    },
    {
      "cell_type": "code",
      "execution_count": null,
      "metadata": {
        "id": "U2qbUc1pvbUY",
        "outputId": "71ccaf00-1f87-4159-83d8-30b06082a5cc"
      },
      "outputs": [
        {
          "data": {
            "image/png": "[encoded data removed]",
            "text/plain": [
              "<Figure size 1000x700 with 1 Axes>"
            ]
          },
          "metadata": {},
          "output_type": "display_data"
        }
      ],
      "source": [
        "plot_predictions(predictions=y_preds)\n"
      ]
    },
    {
      "cell_type": "markdown",
      "metadata": {
        "id": "QFQhFe22vbUY"
      },
      "source": [
        "# 5. Saving and loading a PyTorch model\n",
        "\n",
        "Why save model:\n",
        "\n",
        "1).  to save it and export it somewhere.\n",
        "2). or like to save your progress on a model and come back and load it back\n",
        "\n",
        "**PyTorch method**\t  and      **What does it do?**\n",
        "\n",
        "torch.save\t    Saves a serialized object to disk using Python's pickle utility. Models, tensors and various other Python objects like dictionaries can be saved using torch.save.\n",
        "\n",
        "torch.load\t    Uses pickle's unpickling features to deserialize and load pickled Python object files (like models, tensors or dictionaries) into memory. You can also set which device to load the object to (CPU, GPU etc).\n",
        "\n",
        "torch.nn.Module.load_state_dict \tLoads a model's parameter dictionary (model.state_dict()) using a saved state_dict() object.\n",
        "\n",
        "\n",
        "**Saving a PyTorch model's state_dict()** (This module is recommended!!!)\n",
        "\n",
        "**1).**  create a directory for saving models to called models using Python's pathlib module.\n",
        "\n",
        "**2).** create a file path to save the model to.\n",
        "\n",
        "**3).**  call torch.save(obj, f) where obj is the target model's state_dict() and f is the filename of where to save the model.\n",
        "\n",
        "**Note:** It's common convention for PyTorch saved models or objects to end with .pt or .pth, like saved_model_01.pth.\n"
      ]
    },
    {
      "cell_type": "code",
      "execution_count": null,
      "metadata": {
        "id": "bExWDqaWvbUY",
        "outputId": "7bb45ba9-e137-4431-e031-b99fd55a693f"
      },
      "outputs": [
        {
          "name": "stdout",
          "output_type": "stream",
          "text": [
            "Saving model to: models\\First_Pytorch_DeeplearningModel.pth\n"
          ]
        }
      ],
      "source": [
        "from pathlib import Path\n",
        "\n",
        "# 1. Create models directory\n",
        "MODEL_PATH = Path(\"models\")\n",
        "MODEL_PATH.mkdir(parents=True, exist_ok=True)\n",
        "\n",
        "# 2. Create model save path\n",
        "MODEL_NAME = \"First_Pytorch_DeeplearningModel.pth\"\n",
        "MODEL_SAVE_PATH = MODEL_PATH/MODEL_NAME\n",
        "\n",
        "\n",
        "# 3. Save the model state dict\n",
        "print(f\"Saving model to: {MODEL_SAVE_PATH}\")\n",
        "torch.save(obj=model_0.state_dict(), # only saving the state_dict() only saves the models learned parameters\n",
        "           f=MODEL_SAVE_PATH)"
      ]
    },
    {
      "cell_type": "code",
      "execution_count": null,
      "metadata": {
        "id": "3wsDpb7svbUZ",
        "outputId": "8931a793-b38f-495f-a342-6206ed145f10"
      },
      "outputs": [
        {
          "name": "stdout",
          "output_type": "stream",
          "text": [
            "File exists: models\\First_Pytorch_DeeplearningModel.pth\n"
          ]
        }
      ],
      "source": [
        "import os\n",
        "\n",
        "#file_path = \"models/01_pytorch_workflow_model_0.pth\"\n",
        "if os.path.exists(MODEL_SAVE_PATH):\n",
        "    print(\"File exists:\", MODEL_SAVE_PATH )\n",
        "else:\n",
        "    print(\"File not found:\", MODEL_SAVE_PATH )\n",
        "\n"
      ]
    },
    {
      "cell_type": "markdown",
      "metadata": {
        "id": "U7bS8bzRvbUZ"
      },
      "source": [
        "# Loading a saved PyTorch model's state_dict()\n"
      ]
    },
    {
      "cell_type": "code",
      "execution_count": null,
      "metadata": {
        "id": "MvqRYfAPvbUZ",
        "outputId": "6875d735-7b98-48e3-ffaa-c3ad21c1ac78"
      },
      "outputs": [
        {
          "data": {
            "text/plain": [
              "<All keys matched successfully>"
            ]
          },
          "execution_count": 185,
          "metadata": {},
          "output_type": "execute_result"
        }
      ],
      "source": [
        "# Instantiate a new instance of our model (this will be instantiated with random weights)\n",
        "loaded_model_0 = LinearRegressionModel()\n",
        "\n",
        "# Load the state_dict of our saved model (this will update the new instance of our model with trained weights)\n",
        "loaded_model_0.load_state_dict(torch.load(f=MODEL_SAVE_PATH, weights_only=True))"
      ]
    },
    {
      "cell_type": "markdown",
      "metadata": {
        "id": "pZ764ddJvbUZ"
      },
      "source": [
        "# PyTorch inference rules\n",
        "\n",
        "Set the model in evaluation mode (model.eval()).\n",
        "\n",
        "Make the predictions using the inference mode context manager (with torch.inference_mode(): ...).\n",
        "\n",
        "All predictions should be made with objects on the same device (e.g. data and model on GPU only or data and model on CPU only)."
      ]
    },
    {
      "cell_type": "code",
      "execution_count": null,
      "metadata": {
        "id": "UtU594ervbUb"
      },
      "outputs": [],
      "source": [
        "# 1. Put the loaded model into evaluation mode\n",
        "loaded_model_0.eval()\n",
        "\n",
        "# 2. Use the inference mode context manager to make predictions\n",
        "with torch.inference_mode():\n",
        "    loaded_model_preds = loaded_model_0(X_test) # perform a forward pass on the test data with the loaded model"
      ]
    },
    {
      "cell_type": "code",
      "execution_count": null,
      "metadata": {
        "id": "0uEh_wFDvbUb"
      },
      "outputs": [],
      "source": []
    },
    {
      "cell_type": "code",
      "execution_count": null,
      "metadata": {
        "id": "zYwFqk9_vbUb",
        "outputId": "612b09ba-9350-4999-8075-475a4c8931f6"
      },
      "outputs": [
        {
          "data": {
            "text/plain": [
              "tensor([[True],\n",
              "        [True],\n",
              "        [True],\n",
              "        [True],\n",
              "        [True],\n",
              "        [True],\n",
              "        [True],\n",
              "        [True],\n",
              "        [True],\n",
              "        [True]])"
            ]
          },
          "execution_count": 187,
          "metadata": {},
          "output_type": "execute_result"
        }
      ],
      "source": [
        "# Compare previous model predictions with loaded model predictions (these should be the same)\n",
        "y_preds == loaded_model_preds"
      ]
    },
    {
      "cell_type": "markdown",
      "metadata": {
        "id": "kpc7SC4nvbUb"
      },
      "source": [
        "# classification Problem.\n",
        "![image.png](attachment:image.png)"
      ]
    },
    {
      "cell_type": "code",
      "execution_count": null,
      "metadata": {
        "id": "MCpNlyVTvbUc"
      },
      "outputs": [],
      "source": []
    },
    {
      "cell_type": "markdown",
      "metadata": {
        "id": "tr2Yd5NSvbUc"
      },
      "source": [
        "![image.png](attachment:image.png)"
      ]
    },
    {
      "cell_type": "markdown",
      "metadata": {
        "id": "HAkh1_BavbUc"
      },
      "source": [
        "# Make Classification data Ready\n"
      ]
    },
    {
      "cell_type": "code",
      "execution_count": null,
      "metadata": {
        "id": "vpYROc3ZvbUc",
        "outputId": "82fa3a4c-4e45-449b-b0e5-49c4933e631e"
      },
      "outputs": [
        {
          "name": "stdout",
          "output_type": "stream",
          "text": [
            "First 5 X features:\n",
            "[[ 0.75424625  0.23148074]\n",
            " [-0.75615888  0.15325888]\n",
            " [-0.81539193  0.17328203]\n",
            " [-0.39373073  0.69288277]\n",
            " [ 0.44220765 -0.89672343]], X Shape: (1000, 2)\n",
            "\n",
            "First 5 y labels:\n",
            "[1 1 1 1 0], y Shape(1000,)\n",
            "\n",
            "\n",
            " dataset in dataframe\n",
            "\n",
            "          X1        X2  label\n",
            "0  0.754246  0.231481      1\n",
            "1 -0.756159  0.153259      1\n",
            "2 -0.815392  0.173282      1\n",
            "3 -0.393731  0.692883      1\n",
            "4  0.442208 -0.896723      0\n",
            "5 -0.479646  0.676435      1\n",
            "6 -0.013648  0.803349      1\n",
            "7  0.771513  0.147760      1\n",
            "8 -0.169322 -0.793456      1\n",
            "9 -0.121486  1.021509      0 \n",
            "\n",
            "\n",
            "\n",
            "\n",
            " This is Label count through dataframelabel\n",
            "1    500\n",
            "0    500\n",
            "Name: count, dtype: int64\n",
            "\n",
            " And this is Label count through torch[500 500]\n"
          ]
        },
        {
          "data": {
            "image/png": "[encoded data removed]",
            "text/plain": [
              "<Figure size 640x480 with 1 Axes>"
            ]
          },
          "metadata": {},
          "output_type": "display_data"
        }
      ],
      "source": [
        "from sklearn.datasets import make_circles\n",
        "import matplotlib.pyplot as plt\n",
        "import pandas as pd\n",
        "import numpy as np\n",
        "# Make 1000 samples\n",
        "n_samples = 1000\n",
        "\n",
        "# Create circles\n",
        "X, y = make_circles(n_samples,\n",
        "                    noise=0.03, # a little bit of noise to the dots\n",
        "                    random_state=42) # keep random state so we get the same values\n",
        "\n",
        "print(f\"First 5 X features:\\n{X[:5]}, X Shape: {X.shape}\")\n",
        "print(f\"\\nFirst 5 y labels:\\n{y[:5]}, y Shape{y.shape}\")\n",
        "\n",
        "#label_counts = torch.bincount(y)\n",
        "\n",
        "\n",
        "# OR\n",
        "# Make DataFrame of circle data\n",
        "\n",
        "circles = pd.DataFrame({\"X1\": X[:, 0],\n",
        "    \"X2\": X[:, 1],\n",
        "    \"label\": y\n",
        "})\n",
        "print(\"\\n\\n dataset in dataframe\\n\\n\",circles.head(10),\"\\n\\n\")\n",
        "\n",
        "\n",
        "\n",
        "# Visualize with a plot generated Circles\n",
        "\n",
        "plt.scatter(x=X[:, 0],\n",
        "            y=X[:, 1],\n",
        "            c=y,\n",
        "            cmap=plt.cm.RdYlBu);\n",
        "plt.title(\"Make Circles Dataset\")\n",
        "print(f\"\\n\\n This is Label count through dataframe{circles.label.value_counts()}\\n\\n And this is Label count through torch{np.bincount(y)}\")"
      ]
    },
    {
      "cell_type": "markdown",
      "metadata": {
        "id": "O6vop9B4vbUc"
      },
      "source": [
        "1.2 Turn data into tensors and create train and test splits\n",
        "\n"
      ]
    },
    {
      "cell_type": "code",
      "execution_count": null,
      "metadata": {
        "id": "nLAiGrzfvbUc"
      },
      "outputs": [],
      "source": [
        "import torch\n",
        "from torch import nn\n",
        "from sklearn.model_selection import train_test_split\n",
        "\n",
        "X = torch.from_numpy(X).type(torch.float)\n",
        "y = torch.from_numpy(y).type(torch.float)\n",
        "\n",
        "\n",
        "\n",
        "\n"
      ]
    },
    {
      "cell_type": "markdown",
      "metadata": {
        "id": "k_2zqaD0vbUd"
      },
      "source": [
        "##--------------------OR ----------------------------#\n",
        "\n",
        "# Create train/test split\n",
        "train_split = int(0.8 * len(X)) # 80% of data used for training set, 20% for testing\n",
        "\n",
        "X_train, y_train = X[:train_split], y[:train_split]\n",
        "\n",
        "X_test, y_test = X[train_split:], y[train_split:]\n",
        "\n",
        "len(X_train), len(X_test), len(y_train), len(y_test)\n",
        "\n"
      ]
    },
    {
      "cell_type": "code",
      "execution_count": null,
      "metadata": {
        "id": "5HIZdOc0vbUd"
      },
      "outputs": [],
      "source": [
        "#torch.manual_seed(42)\n",
        "#train_split = int(0.8 * len(X)) # 80% of data used for training set, 20% for testing\n",
        "\n",
        "#X_train, y_train = X[:train_split], y[:train_split]\n",
        "\n",
        "#X_test, y_test = X[train_split:], y[train_split:]\n",
        "\n",
        "#len(X_train), len(X_test), len(y_train), len(y_test)\n",
        "#X_train[1]\n",
        "# OUTPUT: (800, 200, 800, 200)"
      ]
    },
    {
      "cell_type": "code",
      "execution_count": null,
      "metadata": {
        "id": "0eXeQG-fvbUd",
        "outputId": "ef015fcc-ca3d-4b44-bf5e-dc77dd4f2ddf"
      },
      "outputs": [
        {
          "data": {
            "text/plain": [
              "tensor([-0.7562,  0.1533])"
            ]
          },
          "execution_count": 6,
          "metadata": {},
          "output_type": "execute_result"
        }
      ],
      "source": [
        "\n",
        "# Split data into train and test sets\n",
        "\n",
        "\n",
        "X_train, X_test, y_train, y_test = train_test_split(X,\n",
        "                                                    y,\n",
        "                                                    test_size=0.2, # 20% test, 80% train\n",
        "                                                    shuffle=False) # make the random split reproducible\n",
        "                                                    # I have removed random_state=42\n",
        "\n",
        "len(X_train), len(X_test), len(y_train), len(y_test)\n",
        "X_train[1]\n",
        "\n",
        "# (800, 200, 800, 200)"
      ]
    },
    {
      "cell_type": "markdown",
      "metadata": {
        "id": "Chjn4a86vbUd"
      },
      "source": []
    },
    {
      "cell_type": "code",
      "execution_count": null,
      "metadata": {
        "id": "IWMyIcOtvbUd",
        "outputId": "07d9eace-341d-48f2-f934-0c474c0fae6a"
      },
      "outputs": [
        {
          "data": {
            "text/plain": [
              "tensor([ 0.6319, -0.7347])"
            ]
          },
          "execution_count": 7,
          "metadata": {},
          "output_type": "execute_result"
        }
      ],
      "source": [
        "# IMPORTANCE OF random_state IN train_test_split\n",
        "X_train, X_test, y_train, y_test = train_test_split(X,\n",
        "                                                    y,\n",
        "                                                    test_size=0.2, # 20% test, 80% train\n",
        "                                                    random_state=42) # make the random split reproducible\n",
        "                                                    # I have removed random_state=42\n",
        "\n",
        "len(X_train), len(X_test), len(y_train), len(y_test)\n",
        "X_train[1]"
      ]
    },
    {
      "cell_type": "code",
      "execution_count": null,
      "metadata": {
        "id": "8rJMSKGpvbUe",
        "outputId": "df9b64a5-0b11-427d-e1dd-1d57179834c3"
      },
      "outputs": [
        {
          "data": {
            "text/plain": [
              "tensor([ 0.6319, -0.7347])"
            ]
          },
          "execution_count": 8,
          "metadata": {},
          "output_type": "execute_result"
        }
      ],
      "source": [
        "# IMPORTANCE OF random_state IN train_test_split\n",
        "X_train, X_test, y_train, y_test = train_test_split(X,\n",
        "                                                    y,\n",
        "                                                    test_size=0.2, # 20% test, 80% train\n",
        "                                                    random_state=42) # make the random split reproducible\n",
        "                                                    # I have removed random_state=42\n",
        "\n",
        "len(X_train), len(X_test), len(y_train), len(y_test)\n",
        "X_train[1]"
      ]
    },
    {
      "cell_type": "markdown",
      "metadata": {
        "id": "1mcUufqdvbUe"
      },
      "source": [
        "**Create a model class**\n",
        "\n",
        "1). Subclasses nn.Module (almost all PyTorch models are subclasses of nn.Module).\n",
        "\n",
        "2). Creates 2 nn.Linear layers in the constructor capable of handling the input and output shapes of X and y.\n",
        "\n",
        "3).  Defines a forward() method containing the forward pass computation of the model.\n",
        "\n",
        "4). Instantiates the model class and sends it to the target device."
      ]
    },
    {
      "cell_type": "code",
      "execution_count": null,
      "metadata": {
        "id": "dDvpVG6wvbUe",
        "outputId": "732df2a2-3be8-47eb-9aa7-ebe4e4d599da"
      },
      "outputs": [
        {
          "data": {
            "text/plain": [
              "CircleModelV0(\n",
              "  (layer_1): Linear(in_features=2, out_features=5, bias=True)\n",
              "  (layer_2): Linear(in_features=5, out_features=1, bias=True)\n",
              ")"
            ]
          },
          "execution_count": 9,
          "metadata": {},
          "output_type": "execute_result"
        }
      ],
      "source": [
        "# 1. Construct a model class that subclasses nn.Module\n",
        "class CircleModelV0(nn.Module):\n",
        "    def __init__(self):\n",
        "        super().__init__()\n",
        "        # 2. Create 2 nn.Linear layers capable of handling X and y input and output shapes\n",
        "        self.layer_1 = nn.Linear(in_features=2, out_features=5) # takes in 2 features (X), produces 5 features\n",
        "        self.layer_2 = nn.Linear(in_features=5, out_features=1) # takes in 5 features, produces 1 feature (y)\n",
        "\n",
        "    # 3. Define a forward method containing the forward pass computation\n",
        "    def forward(self, x):\n",
        "        # Return the output of layer_2, a single feature, the same shape as y\n",
        "        return self.layer_2(self.layer_1(x)) # computation goes through layer_1 first then the output of layer_1 goes through layer_2\n",
        "\n",
        "# 4. Create an instance of the model and send it to target device\n",
        "model_0 = CircleModelV0()\n",
        "model_0"
      ]
    },
    {
      "cell_type": "markdown",
      "metadata": {
        "id": "j12CSX5zvbUe"
      },
      "source": [
        "The  5 hidden units or neurons turns the input data from having 2 features to 5 features\n",
        "\n",
        "To allows the model to learn patterns from 5 numbers rather than just 2 numbers, potentially leading to better outputs.\n",
        "\n",
        "The number of hidden units you can use in neural network layers is a hyperparameter\n",
        "\n",
        " go and check TensorFlow Playground website for creating visual models."
      ]
    },
    {
      "cell_type": "code",
      "execution_count": null,
      "metadata": {
        "id": "wAClRTeWvbUf",
        "outputId": "8fd73765-8842-4322-b6ff-48c22cf5e01f"
      },
      "outputs": [
        {
          "name": "stdout",
          "output_type": "stream",
          "text": [
            "Length of predictions: 200, Shape: torch.Size([200, 1])\n",
            "Length of test samples: 200, Shape: torch.Size([200])\n",
            "\n",
            "First 10 predictions:\n",
            "tensor([[-0.6111],\n",
            "        [-0.7921],\n",
            "        [-0.0601],\n",
            "        [-0.7675],\n",
            "        [ 0.0609],\n",
            "        [-0.0505],\n",
            "        [-0.6563],\n",
            "        [-0.4824],\n",
            "        [-0.0661],\n",
            "        [-0.8029]], grad_fn=<SliceBackward0>)\n",
            "\n",
            "First 10 test labels:\n",
            "tensor([1., 0., 1., 0., 1., 1., 0., 0., 1., 0.])\n"
          ]
        }
      ],
      "source": [
        "# Make predictions with the model\n",
        "untrained_preds = model_0(X_test)\n",
        "print(f\"Length of predictions: {len(untrained_preds)}, Shape: {untrained_preds.shape}\")\n",
        "print(f\"Length of test samples: {len(y_test)}, Shape: {y_test.shape}\")\n",
        "print(f\"\\nFirst 10 predictions:\\n{untrained_preds[:10]}\")\n",
        "print(f\"\\nFirst 10 test labels:\\n{y_test[:10]}\")"
      ]
    },
    {
      "cell_type": "markdown",
      "metadata": {
        "id": "_Jv9VKWRvbUf"
      },
      "source": [
        "#  Setup loss function and optimizer\n",
        "![image.png](attachment:image.png)"
      ]
    },
    {
      "cell_type": "code",
      "execution_count": null,
      "metadata": {
        "id": "PhfD-1FIvbUf"
      },
      "outputs": [],
      "source": [
        "# Create a loss function\n",
        "# loss_fn = nn.BCELoss() # BCELoss = no sigmoid built-in\n",
        "loss_fn = nn.BCEWithLogitsLoss() # BCEWithLogitsLoss = sigmoid built-in\n",
        "\n",
        "# Create an optimizer\n",
        "optimizer = torch.optim.SGD(params=model_0.parameters(),\n",
        "                            lr=0.1)"
      ]
    },
    {
      "cell_type": "markdown",
      "metadata": {
        "id": "vLfW441tvbUf"
      },
      "source": [
        "#  Creating evaluation metric Accuracy"
      ]
    },
    {
      "cell_type": "code",
      "execution_count": null,
      "metadata": {
        "id": "TVChyE_CvbUf"
      },
      "outputs": [],
      "source": [
        "# Calculate accuracy (a classification metric)\n",
        "def accuracy_fn(y_true, y_pred):\n",
        "    correct = torch.eq(y_true, y_pred).sum().item() # torch.eq() calculates where two tensors are equal\n",
        "    acc = (correct / len(y_pred)) * 100\n",
        "    return acc"
      ]
    },
    {
      "cell_type": "markdown",
      "metadata": {
        "id": "XVQqSzEBvbUg"
      },
      "source": [
        "# Train model"
      ]
    },
    {
      "cell_type": "code",
      "execution_count": null,
      "metadata": {
        "id": "jf0PdCOwvbUg",
        "outputId": "52e6e903-c985-47c9-a4fc-6e08478d3a84"
      },
      "outputs": [
        {
          "data": {
            "text/plain": [
              "tensor([[-0.6111],\n",
              "        [-0.7921],\n",
              "        [-0.0601],\n",
              "        [-0.7675],\n",
              "        [ 0.0609]], grad_fn=<SliceBackward0>)"
            ]
          },
          "execution_count": 15,
          "metadata": {},
          "output_type": "execute_result"
        }
      ],
      "source": [
        " #View the frist 5 outputs of the forward pass on the test data\n",
        "y_logits = model_0(X_test)[:5]\n",
        "y_logits"
      ]
    },
    {
      "cell_type": "code",
      "execution_count": null,
      "metadata": {
        "id": "KUxq5MoJvbUg",
        "outputId": "42166152-045b-4b41-be20-e27479bf2d04"
      },
      "outputs": [
        {
          "data": {
            "text/plain": [
              "tensor([[0.3518],\n",
              "        [0.3117],\n",
              "        [0.4850],\n",
              "        [0.3170],\n",
              "        [0.5152]], grad_fn=<SigmoidBackward0>)"
            ]
          },
          "execution_count": 16,
          "metadata": {},
          "output_type": "execute_result"
        }
      ],
      "source": [
        "# Use sigmoid on model logits\n",
        "y_pred_probs = torch.sigmoid(y_logits)\n",
        "y_pred_probs"
      ]
    },
    {
      "cell_type": "code",
      "execution_count": null,
      "metadata": {
        "id": "PWZEBYdwvbUg",
        "outputId": "83c49316-ec77-4624-cc89-f545cb2cc6a4"
      },
      "outputs": [
        {
          "name": "stdout",
          "output_type": "stream",
          "text": [
            "tensor([True, True, True, True, True])\n"
          ]
        },
        {
          "data": {
            "text/plain": [
              "tensor([0., 0., 0., 0., 1.], grad_fn=<SqueezeBackward0>)"
            ]
          },
          "execution_count": 19,
          "metadata": {},
          "output_type": "execute_result"
        }
      ],
      "source": [
        "# Find the predicted labels (round the prediction probabilities)\n",
        "y_preds = torch.round(y_pred_probs)\n",
        "\n",
        "# In full\n",
        "y_pred_labels = torch.round(torch.sigmoid(model_0(X_test)[:5]))\n",
        "\n",
        "# Check for equality\n",
        "print(torch.eq(y_preds.squeeze(), y_pred_labels.squeeze()))\n",
        "\n",
        "# Get rid of extra dimension\n",
        "y_preds.squeeze()"
      ]
    },
    {
      "cell_type": "code",
      "execution_count": null,
      "metadata": {
        "id": "-qY4X6cnvbUh",
        "outputId": "458d7fe3-5e27-4687-f241-47f977d90d97"
      },
      "outputs": [
        {
          "data": {
            "text/plain": [
              "tensor([1., 0., 1., 0., 1.])"
            ]
          },
          "execution_count": 20,
          "metadata": {},
          "output_type": "execute_result"
        }
      ],
      "source": [
        "y_test[:5]\n"
      ]
    },
    {
      "cell_type": "markdown",
      "metadata": {
        "id": "hSHw-AGxvbUh"
      },
      "source": [
        "# Building a training and testing loop"
      ]
    },
    {
      "cell_type": "code",
      "execution_count": null,
      "metadata": {
        "id": "44PvTQFFvbUh",
        "outputId": "b0049d15-2ce9-4cfd-d2a5-56dcdce0dc73"
      },
      "outputs": [
        {
          "name": "stdout",
          "output_type": "stream",
          "text": [
            "Epoch: 0 | Loss: 0.71987, Accuracy: 46.38% | Test loss: 0.70740, Test acc: 50.00%\n",
            "Epoch: 10 | Loss: 0.71135, Accuracy: 47.00% | Test loss: 0.69984, Test acc: 52.50%\n",
            "Epoch: 20 | Loss: 0.70660, Accuracy: 48.00% | Test loss: 0.69598, Test acc: 51.00%\n",
            "Epoch: 30 | Loss: 0.70365, Accuracy: 48.00% | Test loss: 0.69387, Test acc: 51.00%\n",
            "Epoch: 40 | Loss: 0.70165, Accuracy: 47.75% | Test loss: 0.69266, Test acc: 53.00%\n",
            "Epoch: 50 | Loss: 0.70021, Accuracy: 48.00% | Test loss: 0.69193, Test acc: 53.00%\n",
            "Epoch: 60 | Loss: 0.69910, Accuracy: 48.25% | Test loss: 0.69150, Test acc: 53.00%\n",
            "Epoch: 70 | Loss: 0.69823, Accuracy: 48.62% | Test loss: 0.69123, Test acc: 53.00%\n",
            "Epoch: 80 | Loss: 0.69752, Accuracy: 48.88% | Test loss: 0.69108, Test acc: 53.00%\n",
            "Epoch: 90 | Loss: 0.69694, Accuracy: 48.62% | Test loss: 0.69101, Test acc: 53.00%\n"
          ]
        }
      ],
      "source": [
        "torch.manual_seed(42)\n",
        "\n",
        "# Set the number of epochs\n",
        "epochs = 100\n",
        "\n",
        "# Put data to target device\n",
        "X_train, y_train = X_train, y_train\n",
        "X_test, y_test = X_test, y_test\n",
        "\n",
        "# Build training and evaluation loop\n",
        "for epoch in range(epochs):\n",
        "    ### Training\n",
        "    model_0.train()\n",
        "\n",
        "    # 1. Forward pass (model outputs raw logits)\n",
        "    y_logits = model_0(X_train).squeeze() # squeeze to remove extra `1` dimensions, this won't work unless model and data are on same device\n",
        "    y_pred = torch.round(torch.sigmoid(y_logits)) # turn logits -> pred probs -> pred labls\n",
        "\n",
        "    # 2. Calculate loss/accuracy\n",
        "    # loss = loss_fn(torch.sigmoid(y_logits), # Using nn.BCELoss you need torch.sigmoid()\n",
        "    #                y_train)\n",
        "    loss = loss_fn(y_logits, # Using nn.BCEWithLogitsLoss works with raw logits\n",
        "                   y_train)\n",
        "    acc = accuracy_fn(y_true=y_train,\n",
        "                      y_pred=y_pred)\n",
        "\n",
        "    # 3. Optimizer zero grad\n",
        "    optimizer.zero_grad()\n",
        "\n",
        "    # 4. Loss backwards\n",
        "    loss.backward()\n",
        "\n",
        "    # 5. Optimizer step\n",
        "    optimizer.step()\n",
        "\n",
        "    ### Testing\n",
        "    model_0.eval()\n",
        "    with torch.inference_mode():\n",
        "        # 1. Forward pass\n",
        "        test_logits = model_0(X_test).squeeze()\n",
        "        test_pred = torch.round(torch.sigmoid(test_logits))\n",
        "        # 2. Caculate loss/accuracy\n",
        "        test_loss = loss_fn(test_logits,\n",
        "                            y_test)\n",
        "        test_acc = accuracy_fn(y_true=y_test,\n",
        "                               y_pred=test_pred)\n",
        "\n",
        "    # Print out what's happening every 10 epochs\n",
        "    if epoch % 10 == 0:\n",
        "        print(f\"Epoch: {epoch} | Loss: {loss:.5f}, Accuracy: {acc:.2f}% | Test loss: {test_loss:.5f}, Test acc: {test_acc:.2f}%\")"
      ]
    },
    {
      "cell_type": "markdown",
      "metadata": {
        "id": "x2pwOCWrvbUh"
      },
      "source": [
        "# Make predictions and evaluate the model"
      ]
    },
    {
      "cell_type": "markdown",
      "metadata": {
        "id": "TQia_mM-vbUi"
      },
      "source": [
        "![image.png](attachment:image.png)"
      ]
    }
  ],
  "metadata": {
    "kernelspec": {
      "display_name": "Python 3",
      "language": "python",
      "name": "python3"
    },
    "language_info": {
      "codemirror_mode": {
        "name": "ipython",
        "version": 3
      },
      "file_extension": ".py",
      "mimetype": "text/x-python",
      "name": "python",
      "nbconvert_exporter": "python",
      "pygments_lexer": "ipython3",
      "version": "3.10.0"
    },
    "colab": {
      "provenance": [],
      "include_colab_link": true
    }
  },
  "nbformat": 4,
  "nbformat_minor": 0
}